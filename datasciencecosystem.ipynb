

















(3*4)+5


200 // 60





Author
Preston Creed
